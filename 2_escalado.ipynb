{
 "cells": [
  {
   "cell_type": "markdown",
   "id": "1fd3894b-9742-445b-a299-4d21b92a355d",
   "metadata": {},
   "source": [
    "# Escalado\n",
    "Conjunto de datos: iris (incluido en sklearn)\n",
    "Este conjunto de datos es compacto y perfecto para demostrar técnicas de escalado."
   ]
  },
  {
   "cell_type": "code",
   "execution_count": 1,
   "id": "5ad2bfdc-2b65-4205-8a50-09331ac07dfd",
   "metadata": {},
   "outputs": [],
   "source": [
    "# Importar librerías necesarias\n",
    "from sklearn.datasets import load_iris\n",
    "from sklearn.preprocessing import MinMaxScaler, StandardScaler\n",
    "import pandas as pd\n",
    "import matplotlib.pyplot as plt"
   ]
  },
  {
   "cell_type": "code",
   "execution_count": 2,
   "id": "3043f401-40c2-4d7e-a0b2-9962c5a30909",
   "metadata": {},
   "outputs": [],
   "source": [
    "# Cargar el conjunto de datos\n",
    "iris = load_iris(as_frame=True)\n",
    "data = iris.data"
   ]
  },
  {
   "cell_type": "code",
   "execution_count": 3,
   "id": "c785a731-0e1e-4817-9368-7b8ff252e9cd",
   "metadata": {},
   "outputs": [
    {
     "name": "stdout",
     "output_type": "stream",
     "text": [
      "Estadísticas iniciales:\n"
     ]
    },
    {
     "data": {
      "text/html": [
       "<div>\n",
       "<style scoped>\n",
       "    .dataframe tbody tr th:only-of-type {\n",
       "        vertical-align: middle;\n",
       "    }\n",
       "\n",
       "    .dataframe tbody tr th {\n",
       "        vertical-align: top;\n",
       "    }\n",
       "\n",
       "    .dataframe thead th {\n",
       "        text-align: right;\n",
       "    }\n",
       "</style>\n",
       "<table border=\"1\" class=\"dataframe\">\n",
       "  <thead>\n",
       "    <tr style=\"text-align: right;\">\n",
       "      <th></th>\n",
       "      <th>sepal length (cm)</th>\n",
       "      <th>sepal width (cm)</th>\n",
       "      <th>petal length (cm)</th>\n",
       "      <th>petal width (cm)</th>\n",
       "    </tr>\n",
       "  </thead>\n",
       "  <tbody>\n",
       "    <tr>\n",
       "      <th>count</th>\n",
       "      <td>150.000000</td>\n",
       "      <td>150.000000</td>\n",
       "      <td>150.000000</td>\n",
       "      <td>150.000000</td>\n",
       "    </tr>\n",
       "    <tr>\n",
       "      <th>mean</th>\n",
       "      <td>5.843333</td>\n",
       "      <td>3.057333</td>\n",
       "      <td>3.758000</td>\n",
       "      <td>1.199333</td>\n",
       "    </tr>\n",
       "    <tr>\n",
       "      <th>std</th>\n",
       "      <td>0.828066</td>\n",
       "      <td>0.435866</td>\n",
       "      <td>1.765298</td>\n",
       "      <td>0.762238</td>\n",
       "    </tr>\n",
       "    <tr>\n",
       "      <th>min</th>\n",
       "      <td>4.300000</td>\n",
       "      <td>2.000000</td>\n",
       "      <td>1.000000</td>\n",
       "      <td>0.100000</td>\n",
       "    </tr>\n",
       "    <tr>\n",
       "      <th>25%</th>\n",
       "      <td>5.100000</td>\n",
       "      <td>2.800000</td>\n",
       "      <td>1.600000</td>\n",
       "      <td>0.300000</td>\n",
       "    </tr>\n",
       "    <tr>\n",
       "      <th>50%</th>\n",
       "      <td>5.800000</td>\n",
       "      <td>3.000000</td>\n",
       "      <td>4.350000</td>\n",
       "      <td>1.300000</td>\n",
       "    </tr>\n",
       "    <tr>\n",
       "      <th>75%</th>\n",
       "      <td>6.400000</td>\n",
       "      <td>3.300000</td>\n",
       "      <td>5.100000</td>\n",
       "      <td>1.800000</td>\n",
       "    </tr>\n",
       "    <tr>\n",
       "      <th>max</th>\n",
       "      <td>7.900000</td>\n",
       "      <td>4.400000</td>\n",
       "      <td>6.900000</td>\n",
       "      <td>2.500000</td>\n",
       "    </tr>\n",
       "  </tbody>\n",
       "</table>\n",
       "</div>"
      ],
      "text/plain": [
       "       sepal length (cm)  sepal width (cm)  petal length (cm)  \\\n",
       "count         150.000000        150.000000         150.000000   \n",
       "mean            5.843333          3.057333           3.758000   \n",
       "std             0.828066          0.435866           1.765298   \n",
       "min             4.300000          2.000000           1.000000   \n",
       "25%             5.100000          2.800000           1.600000   \n",
       "50%             5.800000          3.000000           4.350000   \n",
       "75%             6.400000          3.300000           5.100000   \n",
       "max             7.900000          4.400000           6.900000   \n",
       "\n",
       "       petal width (cm)  \n",
       "count        150.000000  \n",
       "mean           1.199333  \n",
       "std            0.762238  \n",
       "min            0.100000  \n",
       "25%            0.300000  \n",
       "50%            1.300000  \n",
       "75%            1.800000  \n",
       "max            2.500000  "
      ]
     },
     "execution_count": 3,
     "metadata": {},
     "output_type": "execute_result"
    }
   ],
   "source": [
    "# Visualizar las estadísticas iniciales\n",
    "print(\"Estadísticas iniciales:\")\n",
    "data.describe()"
   ]
  },
  {
   "cell_type": "code",
   "execution_count": 4,
   "id": "be448627-66e4-4114-8050-d447fbe2912b",
   "metadata": {},
   "outputs": [],
   "source": [
    "# Aplicar MinMaxScaler\n",
    "minmax_scaler = MinMaxScaler()\n",
    "data_minmax = pd.DataFrame(minmax_scaler.fit_transform(data), columns=data.columns)"
   ]
  },
  {
   "cell_type": "code",
   "execution_count": 5,
   "id": "ec3f0bfc-21e6-401e-9f56-8f07a7432eb8",
   "metadata": {},
   "outputs": [],
   "source": [
    "# Aplicar StandardScaler\n",
    "standard_scaler = StandardScaler()\n",
    "data_standard = pd.DataFrame(standard_scaler.fit_transform(data), columns=data.columns)"
   ]
  },
  {
   "cell_type": "markdown",
   "id": "6a8a99ba-d7e2-4fec-ac6e-d25feeb40a13",
   "metadata": {},
   "source": [
    "# Ejercicios\n",
    "Contesta las siguientes preguntas. Para cada pregunta, deberás escribir código que demostrará cómo llegaste al resultado. Crea gráficas en donde veas correcto."
   ]
  },
  {
   "cell_type": "markdown",
   "id": "1d2d6b00-76f2-4640-9c9e-ad17e8426134",
   "metadata": {},
   "source": [
    "### 1. ¿Qué diferencias encuentras entre las estadísticas originales y las del escalado MinMax?\n"
   ]
  },
  {
   "cell_type": "code",
   "execution_count": null,
   "id": "d85339cd-4d35-4afa-9ad5-d6fd699b2f04",
   "metadata": {},
   "outputs": [
    {
     "name": "stdout",
     "output_type": "stream",
     "text": [
      "                   mean_original  std_original  min_original  max_original  \\\n",
      "sepal length (cm)       5.843333      0.828066           4.3           7.9   \n",
      "sepal width (cm)        3.057333      0.435866           2.0           4.4   \n",
      "petal length (cm)       3.758000      1.765298           1.0           6.9   \n",
      "petal width (cm)        1.199333      0.762238           0.1           2.5   \n",
      "\n",
      "                   mean_minmax  std_minmax  min_minmax  max_minmax  \n",
      "sepal length (cm)     0.428704    0.230018         0.0         1.0  \n",
      "sepal width (cm)      0.440556    0.181611         0.0         1.0  \n",
      "petal length (cm)     0.467458    0.299203         0.0         1.0  \n",
      "petal width (cm)      0.458056    0.317599         0.0         1.0  \n"
     ]
    }
   ],
   "source": [
    "\n",
    "# Cargar datos\n",
    "iris = load_iris(as_frame=True)\n",
    "data = iris.data\n",
    "\n",
    "# Aplicar MinMaxScaler\n",
    "minmax_scaler = MinMaxScaler()\n",
    "data_minmax = pd.DataFrame(minmax_scaler.fit_transform(data), columns=data.columns)\n",
    "\n",
    "# Comparar estadísticas\n",
    "original_stats = data.describe().T[['mean','std','min','max']]\n",
    "minmax_stats = data_minmax.describe().T[['mean','std','min','max']]\n",
    "\n",
    "comparison = pd.concat([original_stats, minmax_stats], axis=1)\n",
    "comparison.columns = ['mean_original','std_original','min_original','max_original',\n",
    "                      'mean_minmax','std_minmax','min_minmax','max_minmax']\n",
    "\n",
    "print(comparison)\n",
    "\n",
    "\n",
    "# Rango de valores:\n",
    "\n",
    "  #Original: varía según la columna (min y max diferentes).\n",
    "\n",
    "  #MinMax: todos los valores están normalizados entre 0 y 1 (min=0, max=1).\n",
    "\n",
    "#Media y desviación estándar:\n",
    "\n",
    "  #Original: la media y desviación reflejan la escala original de la característica.\n",
    "\n",
    "  #MinMax: la media y desviación ya no reflejan la magnitud original, dependen del rango relativo de cada columna.\n",
    "\n",
    "#Forma de la distribución:\n",
    "\n",
    "  #MinMax no altera la forma, solo escala linealmente todos los valores al rango [0,1].\n",
    "\n",
    "#MinMaxScaler cambia la escala y el rango, pero conserva la forma de los datos, mientras que la media y desviación pierden su valor interpretativo original.\n"
   ]
  },
  {
   "cell_type": "markdown",
   "id": "13b39499-181d-4543-b2f8-2c1ae05bc820",
   "metadata": {},
   "source": [
    "### 2. Crea una gráfica de la distribución de la variable 'sepal length (cm)' antes y después del escalado."
   ]
  },
  {
   "cell_type": "code",
   "execution_count": 10,
   "id": "ae4ee901-481b-439c-a3ea-46000b8f36ae",
   "metadata": {},
   "outputs": [
    {
     "data": {
      "image/png": "[encoded data removed]",
      "text/plain": [
       "<Figure size 1000x500 with 1 Axes>"
      ]
     },
     "metadata": {},
     "output_type": "display_data"
    }
   ],
   "source": [
    "\n",
    "\n",
    "\n",
    "# Graficar histogramas\n",
    "plt.figure(figsize=(10, 5))\n",
    "\n",
    "plt.hist(data['sepal length (cm)'], bins=20, alpha=0.7, label='Original')\n",
    "plt.hist(data_minmax['sepal length (cm)'], bins=20, alpha=0.7, label='MinMaxScaler')\n",
    "\n",
    "plt.title(\"Distribución de 'sepal length (cm)' antes y después del escalado\")\n",
    "plt.xlabel('Valor')\n",
    "plt.ylabel('Frecuencia')\n",
    "plt.legend()\n",
    "plt.show()\n"
   ]
  },
  {
   "cell_type": "markdown",
   "id": "5378fb1b-8695-4ac9-b488-44779b0b8319",
   "metadata": {},
   "source": [
    "### 3. Crea una gráfica de dispersión entre 'sepal length (cm)' y 'sepal width (cm)' con los datos escalados por StandardScaler."
   ]
  },
  {
   "cell_type": "code",
   "execution_count": 11,
   "id": "916c1164-6646-4269-9f03-301391ed7f49",
   "metadata": {},
   "outputs": [
    {
     "data": {
      "image/png": "[encoded data removed]",
      "text/plain": [
       "<Figure size 640x480 with 1 Axes>"
      ]
     },
     "metadata": {},
     "output_type": "display_data"
    }
   ],
   "source": [
    "\n",
    "\n",
    "# Cargar datos\n",
    "iris = load_iris()\n",
    "df = pd.DataFrame(iris.data, columns=iris.feature_names)\n",
    "\n",
    "# Escalado con StandardScaler\n",
    "scaler = StandardScaler()\n",
    "scaled_data = scaler.fit_transform(df)\n",
    "scaled_df = pd.DataFrame(scaled_data, columns=iris.feature_names)\n",
    "\n",
    "# Crear gráfico de dispersión\n",
    "plt.figure()\n",
    "plt.scatter(scaled_df['sepal length (cm)'], scaled_df['sepal width (cm)'])\n",
    "plt.title(\"Dispersión: 'sepal length (cm)' vs 'sepal width (cm)' (StandardScaler)\")\n",
    "plt.xlabel(\"sepal length (cm) escalado\")\n",
    "plt.ylabel(\"sepal width (cm) escalado\")\n",
    "plt.show()\n"
   ]
  },
  {
   "cell_type": "markdown",
   "id": "01cb8c48-b136-4e56-9bcb-11ca2a0ad0fb",
   "metadata": {},
   "source": [
    "### 4. ¿Qué técnica de escalado crees que es más adecuada para este conjunto de datos? ¿Por qué?"
   ]
  },
  {
   "cell_type": "code",
   "execution_count": 16,
   "id": "bb1e3e64-9442-4e2a-842e-7aa6a8bf9551",
   "metadata": {},
   "outputs": [],
   "source": [
    "#La técnica de escalado más adecuada para el conjunto de datos Iris es StandardScaler\n",
    "\n",
    "#Las variables del Iris (longitudes y anchos del sépalo y pétalo) siguen aproximadamente una distribución normal, lo cual es ideal para StandardScaler\n",
    "\n",
    "#Muchos algoritmos de Machine Learning (como PCA, Regresión Logística, SVM, K-Means) funcionan mejor cuando los datos están centrados en\n",
    "#0 y tienen varianza uniforme, lo cual brinda StandardScaler.\n",
    "\n",
    "#Aunque MinMaxScaler también funciona bien, puede distorsionar distancias y varianzas, especialmente si luego usamos algoritmos basados en distancias.\n",
    "#StandardScaler es la técnica más adecuada para el dataset Iris, ya que estandariza los datos manteniendo su estructura estadística, facilita el análisis \n",
    "#y es ideal para algoritmos que asumen distribución normal o dependen de las distancias.\n",
    "\n",
    "\n"
   ]
  }
 ],
 "metadata": {
  "kernelspec": {
   "display_name": "Python 3 (ipykernel)",
   "language": "python",
   "name": "python3"
  },
  "language_info": {
   "codemirror_mode": {
    "name": "ipython",
    "version": 3
   },
   "file_extension": ".py",
   "mimetype": "text/x-python",
   "name": "python",
   "nbconvert_exporter": "python",
   "pygments_lexer": "ipython3",
   "version": "3.12.10"
  }
 },
 "nbformat": 4,
 "nbformat_minor": 5
}
