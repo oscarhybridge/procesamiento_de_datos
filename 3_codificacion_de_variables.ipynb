{
 "cells": [
  {
   "cell_type": "markdown",
   "id": "fce3d75c-1ef4-423f-ab1e-31c0529dce13",
   "metadata": {},
   "source": [
    "# 3.  Codificación de variables"
   ]
  },
  {
   "cell_type": "markdown",
   "id": "d1be34f8-6c07-4ddc-b3cf-5a4fd77338f8",
   "metadata": {},
   "source": [
    "Conjunto de datos: titanic (incluido en seaborn)\n",
    "\n",
    "Este conjunto de datos es excelente para trabajar con variables categóricas."
   ]
  },
  {
   "cell_type": "code",
   "execution_count": 2,
   "id": "6ed24c9d-eb3a-4d47-b2ea-54bd2506163a",
   "metadata": {},
   "outputs": [],
   "source": [
    "# Importar librerías necesarias\n",
    "import pandas as pd\n",
    "import seaborn as sns\n",
    "from sklearn.preprocessing import LabelEncoder, OneHotEncoder"
   ]
  },
  {
   "cell_type": "code",
   "execution_count": 3,
   "id": "bc01425d-fb27-40fe-96b9-a28675c03cfe",
   "metadata": {},
   "outputs": [],
   "source": [
    "# Cargar el conjunto de datos\n",
    "data = sns.load_dataset('titanic')"
   ]
  },
  {
   "cell_type": "code",
   "execution_count": 4,
   "id": "5283d478-4997-4120-9c3c-d18c2467b09a",
   "metadata": {},
   "outputs": [
    {
     "name": "stdout",
     "output_type": "stream",
     "text": [
      "Conjunto de datos Titanic:\n"
     ]
    },
    {
     "data": {
      "text/html": [
       "<div>\n",
       "<style scoped>\n",
       "    .dataframe tbody tr th:only-of-type {\n",
       "        vertical-align: middle;\n",
       "    }\n",
       "\n",
       "    .dataframe tbody tr th {\n",
       "        vertical-align: top;\n",
       "    }\n",
       "\n",
       "    .dataframe thead th {\n",
       "        text-align: right;\n",
       "    }\n",
       "</style>\n",
       "<table border=\"1\" class=\"dataframe\">\n",
       "  <thead>\n",
       "    <tr style=\"text-align: right;\">\n",
       "      <th></th>\n",
       "      <th>survived</th>\n",
       "      <th>pclass</th>\n",
       "      <th>sex</th>\n",
       "      <th>age</th>\n",
       "      <th>sibsp</th>\n",
       "      <th>parch</th>\n",
       "      <th>fare</th>\n",
       "      <th>embarked</th>\n",
       "      <th>class</th>\n",
       "      <th>who</th>\n",
       "      <th>adult_male</th>\n",
       "      <th>deck</th>\n",
       "      <th>embark_town</th>\n",
       "      <th>alive</th>\n",
       "      <th>alone</th>\n",
       "    </tr>\n",
       "  </thead>\n",
       "  <tbody>\n",
       "    <tr>\n",
       "      <th>0</th>\n",
       "      <td>0</td>\n",
       "      <td>3</td>\n",
       "      <td>male</td>\n",
       "      <td>22.0</td>\n",
       "      <td>1</td>\n",
       "      <td>0</td>\n",
       "      <td>7.2500</td>\n",
       "      <td>S</td>\n",
       "      <td>Third</td>\n",
       "      <td>man</td>\n",
       "      <td>True</td>\n",
       "      <td>NaN</td>\n",
       "      <td>Southampton</td>\n",
       "      <td>no</td>\n",
       "      <td>False</td>\n",
       "    </tr>\n",
       "    <tr>\n",
       "      <th>1</th>\n",
       "      <td>1</td>\n",
       "      <td>1</td>\n",
       "      <td>female</td>\n",
       "      <td>38.0</td>\n",
       "      <td>1</td>\n",
       "      <td>0</td>\n",
       "      <td>71.2833</td>\n",
       "      <td>C</td>\n",
       "      <td>First</td>\n",
       "      <td>woman</td>\n",
       "      <td>False</td>\n",
       "      <td>C</td>\n",
       "      <td>Cherbourg</td>\n",
       "      <td>yes</td>\n",
       "      <td>False</td>\n",
       "    </tr>\n",
       "    <tr>\n",
       "      <th>2</th>\n",
       "      <td>1</td>\n",
       "      <td>3</td>\n",
       "      <td>female</td>\n",
       "      <td>26.0</td>\n",
       "      <td>0</td>\n",
       "      <td>0</td>\n",
       "      <td>7.9250</td>\n",
       "      <td>S</td>\n",
       "      <td>Third</td>\n",
       "      <td>woman</td>\n",
       "      <td>False</td>\n",
       "      <td>NaN</td>\n",
       "      <td>Southampton</td>\n",
       "      <td>yes</td>\n",
       "      <td>True</td>\n",
       "    </tr>\n",
       "    <tr>\n",
       "      <th>3</th>\n",
       "      <td>1</td>\n",
       "      <td>1</td>\n",
       "      <td>female</td>\n",
       "      <td>35.0</td>\n",
       "      <td>1</td>\n",
       "      <td>0</td>\n",
       "      <td>53.1000</td>\n",
       "      <td>S</td>\n",
       "      <td>First</td>\n",
       "      <td>woman</td>\n",
       "      <td>False</td>\n",
       "      <td>C</td>\n",
       "      <td>Southampton</td>\n",
       "      <td>yes</td>\n",
       "      <td>False</td>\n",
       "    </tr>\n",
       "    <tr>\n",
       "      <th>4</th>\n",
       "      <td>0</td>\n",
       "      <td>3</td>\n",
       "      <td>male</td>\n",
       "      <td>35.0</td>\n",
       "      <td>0</td>\n",
       "      <td>0</td>\n",
       "      <td>8.0500</td>\n",
       "      <td>S</td>\n",
       "      <td>Third</td>\n",
       "      <td>man</td>\n",
       "      <td>True</td>\n",
       "      <td>NaN</td>\n",
       "      <td>Southampton</td>\n",
       "      <td>no</td>\n",
       "      <td>True</td>\n",
       "    </tr>\n",
       "  </tbody>\n",
       "</table>\n",
       "</div>"
      ],
      "text/plain": [
       "   survived  pclass     sex   age  sibsp  parch     fare embarked  class  \\\n",
       "0         0       3    male  22.0      1      0   7.2500        S  Third   \n",
       "1         1       1  female  38.0      1      0  71.2833        C  First   \n",
       "2         1       3  female  26.0      0      0   7.9250        S  Third   \n",
       "3         1       1  female  35.0      1      0  53.1000        S  First   \n",
       "4         0       3    male  35.0      0      0   8.0500        S  Third   \n",
       "\n",
       "     who  adult_male deck  embark_town alive  alone  \n",
       "0    man        True  NaN  Southampton    no  False  \n",
       "1  woman       False    C    Cherbourg   yes  False  \n",
       "2  woman       False  NaN  Southampton   yes   True  \n",
       "3  woman       False    C  Southampton   yes  False  \n",
       "4    man        True  NaN  Southampton    no   True  "
      ]
     },
     "execution_count": 4,
     "metadata": {},
     "output_type": "execute_result"
    }
   ],
   "source": [
    "# Visualizar las primeras filas\n",
    "print(\"Conjunto de datos Titanic:\")\n",
    "data.head()"
   ]
  },
  {
   "cell_type": "code",
   "execution_count": 5,
   "id": "51d50daf-12e7-489c-9e9b-1deb85b4dac8",
   "metadata": {},
   "outputs": [],
   "source": [
    "# Seleccionar columnas categóricas\n",
    "categorical_cols = ['sex', 'embarked', 'class']"
   ]
  },
  {
   "cell_type": "code",
   "execution_count": 6,
   "id": "665c4f87-6d58-4e54-9cb2-7593c108ec30",
   "metadata": {},
   "outputs": [],
   "source": [
    "# Codificar con LabelEncoder\n",
    "label_encoder = LabelEncoder()\n",
    "data['sex_label'] = label_encoder.fit_transform(data['sex'])"
   ]
  },
  {
   "cell_type": "code",
   "execution_count": 7,
   "id": "808cb0a0-1b63-4075-be0d-46d28fccae1d",
   "metadata": {},
   "outputs": [],
   "source": [
    "# Codificar con OneHotEncoder\n",
    "onehot_encoder = pd.get_dummies(data['embarked'], prefix='embarked')"
   ]
  },
  {
   "cell_type": "code",
   "execution_count": 8,
   "id": "466e25c9-f054-428d-9589-3b898d921e27",
   "metadata": {},
   "outputs": [],
   "source": [
    "# Combinar con el conjunto original\n",
    "data = pd.concat([data, onehot_encoder], axis=1)"
   ]
  },
  {
   "cell_type": "markdown",
   "id": "f394aa58-fcd8-4785-a3bf-61fde5ecd4b8",
   "metadata": {},
   "source": [
    "# Ejercicios\n",
    "Contesta las siguientes preguntas. Para cada pregunta, deberás escribir código que demostrará cómo llegaste al resultado. Crea gráficas en donde veas correcto."
   ]
  },
  {
   "cell_type": "markdown",
   "id": "a0562244-8803-4b63-a2b6-377ed1478c7d",
   "metadata": {},
   "source": [
    "### 1. ¿Qué diferencias encuentras entre LabelEncoder y OneHotEncoder?"
   ]
  },
  {
   "cell_type": "code",
   "execution_count": 9,
   "id": "fe6000bc-69b9-4cef-8cca-e5bb21fd9e28",
   "metadata": {},
   "outputs": [
    {
     "name": "stdout",
     "output_type": "stream",
     "text": [
      "=== Valores únicos por columna ===\n",
      "\n",
      "Columna: sex\n",
      "Únicos: ['male' 'female']\n",
      "Conteos:\n",
      " sex\n",
      "male      577\n",
      "female    314\n",
      "Name: count, dtype: int64\n",
      "\n",
      "Columna: embarked\n",
      "Únicos: ['S' 'C' 'Q' nan]\n",
      "Conteos:\n",
      " embarked\n",
      "S      644\n",
      "C      168\n",
      "Q       77\n",
      "NaN      2\n",
      "Name: count, dtype: int64\n",
      "\n",
      "Columna: class\n",
      "Únicos: ['Third', 'First', 'Second']\n",
      "Categories (3, object): ['First', 'Second', 'Third']\n",
      "Conteos:\n",
      " class\n",
      "Third     491\n",
      "First     216\n",
      "Second    184\n",
      "Name: count, dtype: int64\n",
      "\n",
      "Mapping LabelEncoder para 'sex':\n",
      "  female -> 0\n",
      "  male -> 1\n",
      "\n",
      "Mapping LabelEncoder para 'class':\n",
      "  First -> 0\n",
      "  Second -> 1\n",
      "  Third -> 2\n",
      "\n",
      "Número de columnas:\n",
      "  Original: 15\n",
      "  Con LabelEncoder (se agregan columnas label): 17\n",
      "  Con One-Hot Encoding: 19\n",
      "\n",
      "Primeras filas - LabelEncoded (sex_label, class_label):\n",
      "      sex  sex_label  class  class_label\n",
      "0    male          1  Third            2\n",
      "1  female          0  First            0\n",
      "2  female          0  Third            2\n",
      "3  female          0  First            0\n",
      "4    male          1  Third            2\n",
      "\n",
      "Primeras filas - One-Hot (columnas creadas):\n",
      "   survived  pclass     sex   age  sibsp  parch     fare    who  adult_male  \\\n",
      "0         0       3    male  22.0      1      0   7.2500    man        True   \n",
      "1         1       1  female  38.0      1      0  71.2833  woman       False   \n",
      "2         1       3  female  26.0      0      0   7.9250  woman       False   \n",
      "3         1       1  female  35.0      1      0  53.1000  woman       False   \n",
      "4         0       3    male  35.0      0      0   8.0500    man        True   \n",
      "\n",
      "  deck  embark_town alive  \n",
      "0  NaN  Southampton    no  \n",
      "1    C    Cherbourg   yes  \n",
      "2  NaN  Southampton   yes  \n",
      "3    C  Southampton   yes  \n",
      "4  NaN  Southampton    no  \n"
     ]
    },
    {
     "data": {
      "image/png": "[encoded data removed]",
      "text/plain": [
       "<Figure size 640x480 with 1 Axes>"
      ]
     },
     "metadata": {},
     "output_type": "display_data"
    },
    {
     "data": {
      "image/png": "[encoded data removed]",
      "text/plain": [
       "<Figure size 640x480 with 1 Axes>"
      ]
     },
     "metadata": {},
     "output_type": "display_data"
    },
    {
     "data": {
      "image/png": "[encoded data removed]",
      "text/plain": [
       "<Figure size 640x480 with 1 Axes>"
      ]
     },
     "metadata": {},
     "output_type": "display_data"
    },
    {
     "name": "stdout",
     "output_type": "stream",
     "text": [
      "\n",
      "RESUMEN RÁPIDO:\n",
      "- LabelEncoder:\n",
      "  * Reemplaza la columna categórica por una columna numérica con etiquetas (0,1,2,...).\n",
      "  * Ocupa menos columnas.\n",
      "  * Introduce un orden implícito entre las categorías (p. ej. 0 < 1 < 2), lo cual puede ser problemático\n",
      "    si la variable es nominal (sin orden).\n",
      "\n",
      "- One-Hot Encoding:\n",
      "  * Crea N columnas binarias (una por cada categoría).\n",
      "  * No introduce orden implícito — cada categoría se representa independientemente.\n",
      "  * Aumenta el número de columnas (problema cuando hay muchas categorías).\n",
      "\n"
     ]
    }
   ],
   "source": [
    "# Código que demuestra las diferencias entre LabelEncoder y OneHotEncoder\n",
    "# Diferencias entre LabelEncoder y OneHotEncoder (código demostrativo)\n",
    "import pandas as pd\n",
    "import matplotlib.pyplot as plt\n",
    "from sklearn.preprocessing import LabelEncoder\n",
    "import seaborn as sns  # para cargar el dataset titanic\n",
    "\n",
    "# 1) Cargar datos\n",
    "data = sns.load_dataset('titanic')\n",
    "\n",
    "# 2) Columnas a usar como ejemplo\n",
    "cols = ['sex', 'embarked', 'class']\n",
    "\n",
    "# 3) Mostrar valores únicos y conteos (originales)\n",
    "print(\"=== Valores únicos por columna ===\")\n",
    "for c in cols:\n",
    "    print(f\"\\nColumna: {c}\")\n",
    "    print(\"Únicos:\", data[c].unique())\n",
    "    print(\"Conteos:\\n\", data[c].value_counts(dropna=False))\n",
    "\n",
    "# 4) Label Encoding de ejemplo (sex y class)\n",
    "data_le = data.copy()\n",
    "le_sex = LabelEncoder()\n",
    "data_le['sex_label'] = le_sex.fit_transform(data_le['sex'].astype(str))\n",
    "le_class = LabelEncoder()\n",
    "data_le['class_label'] = le_class.fit_transform(data_le['class'].astype(str))\n",
    "\n",
    "print(\"\\nMapping LabelEncoder para 'sex':\")\n",
    "for cat, lab in zip(le_sex.classes_, range(len(le_sex.classes_))):\n",
    "    print(f\"  {cat} -> {lab}\")\n",
    "\n",
    "print(\"\\nMapping LabelEncoder para 'class':\")\n",
    "for cat, lab in zip(le_class.classes_, range(len(le_class.classes_))):\n",
    "    print(f\"  {cat} -> {lab}\")\n",
    "\n",
    "# 5) One-Hot Encoding (pandas.get_dummies) para 'embarked' y 'class'\n",
    "data_ohe = pd.get_dummies(data.copy(), columns=['embarked','class'], prefix=['embarked','class'], dummy_na=False)\n",
    "\n",
    "# 6) Comparación del número de columnas antes/después\n",
    "print(\"\\nNúmero de columnas:\")\n",
    "print(\"  Original:\", data.shape[1])\n",
    "print(\"  Con LabelEncoder (se agregan columnas label):\", data_le.shape[1])\n",
    "print(\"  Con One-Hot Encoding:\", data_ohe.shape[1])\n",
    "\n",
    "# 7) Mostrar primeras filas para ver la transformación\n",
    "print(\"\\nPrimeras filas - LabelEncoded (sex_label, class_label):\")\n",
    "print(data_le[['sex','sex_label','class','class_label']].head())\n",
    "\n",
    "print(\"\\nPrimeras filas - One-Hot (columnas creadas):\")\n",
    "print(data_ohe.head().iloc[:, :12])   # mostrar solo primeras 12 columnas para no spamear\n",
    "\n",
    "# ---------------------\n",
    "# GRÁFICAS (una figura por gráfico, matplotlib)\n",
    "# ---------------------\n",
    "\n",
    "# A) Gráfico 1: distribución original de 'sex'\n",
    "plt.figure()\n",
    "data['sex'].value_counts().plot.bar()\n",
    "plt.title(\"Distribución original de 'sex'\")\n",
    "plt.xlabel(\"sex\")\n",
    "plt.ylabel(\"Frecuencia\")\n",
    "plt.show()\n",
    "\n",
    "# B) Gráfico 2: distribución tras LabelEncoder ('sex_label')\n",
    "plt.figure()\n",
    "# ordenamos por índice para que 0 y 1 correspondan a las etiquetas en orden\n",
    "data_le['sex_label'].value_counts().sort_index().plot.bar()\n",
    "plt.title(\"Distribución de 'sex' tras LabelEncoder (sex_label)\")\n",
    "plt.xlabel(\"sex_label\")\n",
    "plt.ylabel(\"Frecuencia\")\n",
    "plt.show()\n",
    "\n",
    "# C) Gráfico 3: sumas de columnas One-Hot para 'embarked' (muestra cómo One-Hot distribuye la información)\n",
    "ohe_embarked_cols = [c for c in data_ohe.columns if c.startswith('embarked_')]\n",
    "embarked_counts = data_ohe[ohe_embarked_cols].sum().sort_values(ascending=False)\n",
    "plt.figure()\n",
    "embarked_counts.plot.bar()\n",
    "plt.title(\"Conteos por categoría (One-Hot) de 'embarked' (sumatoria de columnas OHE)\")\n",
    "plt.xlabel(\"embarked_category\")\n",
    "plt.ylabel(\"Frecuencia (suma de la columna OHE)\")\n",
    "plt.show()\n",
    "\n",
    "# 8) Resumen final (texto)\n",
    "print(\"\"\"\n",
    "RESUMEN RÁPIDO:\n",
    "- LabelEncoder:\n",
    "  * Reemplaza la columna categórica por una columna numérica con etiquetas (0,1,2,...).\n",
    "  * Ocupa menos columnas.\n",
    "  * Introduce un orden implícito entre las categorías (p. ej. 0 < 1 < 2), lo cual puede ser problemático\n",
    "    si la variable es nominal (sin orden).\n",
    "\n",
    "- One-Hot Encoding:\n",
    "  * Crea N columnas binarias (una por cada categoría).\n",
    "  * No introduce orden implícito — cada categoría se representa independientemente.\n",
    "  * Aumenta el número de columnas (problema cuando hay muchas categorías).\n",
    "\"\"\")\n"
   ]
  },
  {
   "cell_type": "markdown",
   "id": "4817efb6-83e6-47cd-b8b6-b17a2df381db",
   "metadata": {},
   "source": [
    "### 2. Crea una gráfica de barras comparando las frecuencias de 'sex' antes y después de la codificación con LabelEncoder."
   ]
  },
  {
   "cell_type": "code",
   "execution_count": 10,
   "id": "8f74141e-e338-4841-93d7-c23bcf92d854",
   "metadata": {},
   "outputs": [
    {
     "data": {
      "image/png": "[encoded data removed]",
      "text/plain": [
       "<Figure size 640x480 with 1 Axes>"
      ]
     },
     "metadata": {},
     "output_type": "display_data"
    },
    {
     "data": {
      "image/png": "[encoded data removed]",
      "text/plain": [
       "<Figure size 640x480 with 1 Axes>"
      ]
     },
     "metadata": {},
     "output_type": "display_data"
    }
   ],
   "source": [
    "import pandas as pd\n",
    "from sklearn.preprocessing import LabelEncoder\n",
    "import matplotlib.pyplot as plt\n",
    "\n",
    "data = {'sex': ['male', 'female', 'female', 'male', 'female', 'male', 'female']}\n",
    "df = pd.DataFrame(data)\n",
    "\n",
    "label_encoder = LabelEncoder()\n",
    "df['sex_encoded'] = label_encoder.fit_transform(df['sex'])\n",
    "\n",
    "freq_before = df['sex'].value_counts()\n",
    "freq_after = df['sex_encoded'].value_counts()\n",
    "\n",
    "# Plot before encoding\n",
    "plt.figure()\n",
    "freq_before.plot(kind='bar')\n",
    "plt.title('Frecuencia de sex (Antes de codificar)')\n",
    "plt.xlabel('Categoría')\n",
    "plt.ylabel('Frecuencia')\n",
    "plt.show()\n",
    "\n",
    "# Plot after encoding\n",
    "plt.figure()\n",
    "freq_after.plot(kind='bar')\n",
    "plt.title('Frecuencia de sex (Después de codificar)')\n",
    "plt.xlabel('Código')\n",
    "plt.ylabel('Frecuencia')\n",
    "plt.show()\n"
   ]
  },
  {
   "cell_type": "markdown",
   "id": "ae3a78d3-b7ce-4930-af2e-be0d8a8aac1f",
   "metadata": {},
   "source": [
    "### 3. Utiliza OneHotEncoder para codificar la columna 'class'. ¿Qué ventajas tiene este enfoque frente a LabelEncoder?"
   ]
  },
  {
   "cell_type": "code",
   "execution_count": 13,
   "id": "e09b050a-ef42-4585-8497-760485426793",
   "metadata": {},
   "outputs": [
    {
     "name": "stdout",
     "output_type": "stream",
     "text": [
      "Datos originales:\n",
      "    class\n",
      "0   First\n",
      "1  Second\n",
      "2   Third\n",
      "3   First\n",
      "4   Third\n",
      "5  Second\n",
      "6   Third\n",
      "\n",
      "Datos codificados con OneHotEncoder:\n",
      "   class_First  class_Second  class_Third\n",
      "0         True         False        False\n",
      "1        False          True        False\n",
      "2        False         False         True\n",
      "3         True         False        False\n",
      "4        False         False         True\n",
      "5        False          True        False\n",
      "6        False         False         True\n"
     ]
    },
    {
     "data": {
      "text/plain": [
       "\"OneHotEncoder es más adecuado para la columna 'class' porque evita que el modelo interprete jerarquía entre las clases. Cada categoría es \\nindependiente y se representa como una columna binaria.\""
      ]
     },
     "execution_count": 13,
     "metadata": {},
     "output_type": "execute_result"
    }
   ],
   "source": [
    "import pandas as pd\n",
    "\n",
    "# Ejemplo similar al dataset Titanic\n",
    "data = pd.DataFrame({\n",
    "    'class': ['First', 'Second', 'Third', 'First', 'Third', 'Second', 'Third']\n",
    "})\n",
    "\n",
    "# Aplicar OneHotEncoder con get_dummies\n",
    "onehot_class = pd.get_dummies(data['class'], prefix='class')\n",
    "\n",
    "# Mostrar el resultado\n",
    "print(\"Datos originales:\")\n",
    "print(data)\n",
    "\n",
    "print(\"\\nDatos codificados con OneHotEncoder:\")\n",
    "print(onehot_class)\n",
    "\n",
    "\"\"\"OneHotEncoder es más adecuado para la columna 'class' porque evita que el modelo interprete jerarquía entre las clases. Cada categoría es \n",
    "independiente y se representa como una columna binaria.\"\"\"\n",
    "\n"
   ]
  },
  {
   "cell_type": "markdown",
   "id": "9e152d15-f997-40b9-be27-c3387f3f2fde",
   "metadata": {},
   "source": [
    "### 4. Si quisieras aplicar un modelo de aprendizaje automático, ¿qué tipo de codificación elegirías para las variables categóricas? Explica tu respuesta."
   ]
  },
  {
   "cell_type": "code",
   "execution_count": 16,
   "id": "09935085-7d55-47da-b196-45f9c5f0735e",
   "metadata": {},
   "outputs": [
    {
     "data": {
      "text/plain": [
       "'La elección del tipo de codificación depende del tipo de variable categórica y del modelo que se utilizará.\\n\\nUsaría principalmente OneHotEncoder para variables categóricas nominales si voy a aplicar un modelo de Machine Learning.\\nEsto se debe a que este método evita introducir un orden numérico falso entre categorías (como lo hace LabelEncoder), lo cual podría confundir al modelo y afectar el aprendizaje.\\nSolo usaría LabelEncoder o OrdinalEncoder si la variable tiene un orden real (como First, Second, Third Class o niveles educativos).'"
      ]
     },
     "execution_count": 16,
     "metadata": {},
     "output_type": "execute_result"
    }
   ],
   "source": [
    "\"\"\"La elección del tipo de codificación depende del tipo de variable categórica y del modelo que se utilizará.\n",
    "\n",
    "Usaría principalmente OneHotEncoder para variables categóricas nominales si voy a aplicar un modelo de Machine Learning.\n",
    "Esto se debe a que este método evita introducir un orden numérico falso entre categorías (como lo hace LabelEncoder), lo cual podría confundir al modelo y afectar el aprendizaje.\n",
    "Solo usaría LabelEncoder o OrdinalEncoder si la variable tiene un orden real (como First, Second, Third Class o niveles educativos).\"\"\""
   ]
  }
 ],
 "metadata": {
  "kernelspec": {
   "display_name": "Python 3 (ipykernel)",
   "language": "python",
   "name": "python3"
  },
  "language_info": {
   "codemirror_mode": {
    "name": "ipython",
    "version": 3
   },
   "file_extension": ".py",
   "mimetype": "text/x-python",
   "name": "python",
   "nbconvert_exporter": "python",
   "pygments_lexer": "ipython3",
   "version": "3.12.10"
  }
 },
 "nbformat": 4,
 "nbformat_minor": 5
}
